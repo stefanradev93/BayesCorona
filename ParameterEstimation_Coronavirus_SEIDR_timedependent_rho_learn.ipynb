{
 "cells": [
  {
   "cell_type": "code",
   "execution_count": 5,
   "metadata": {},
   "outputs": [],
   "source": [
    "import tensorflow as tf\n",
    "from tensorflow.keras.regularizers import l2\n",
    "#import tensorflow.contrib.eager as tfe\n",
    "from functools import partial\n",
    "import pandas as pd\n",
    "import seaborn as sns\n",
    "import matplotlib.pyplot as plt\n",
    "\n",
    "from sklearn.calibration import calibration_curve\n",
    "import matplotlib.tri as tri\n",
    "from scipy.special import betaln\n",
    "from scipy.stats import beta\n",
    "from scipy import stats\n",
    "from scipy.special import gamma as gamma_fun\n",
    "import scipy.special as spec\n",
    "import matplotlib.pyplot as plt\n",
    "from tqdm import tqdm_notebook as tqdm\n",
    "import numpy as np\n",
    "np.set_printoptions(suppress=True)\n",
    "\n",
    "\n",
    "from numba import jit\n",
    "\n",
    "from deep_bayes.models import BayesFlow, SequenceNetwork\n",
    "from deep_bayes.training import train_online\n",
    "from deep_bayes.losses import maximum_likelihood_loss\n",
    "from deep_bayes.viz import plot_true_est_scatter, plot_true_est_posterior"
   ]
  },
  {
   "cell_type": "code",
   "execution_count": 6,
   "metadata": {},
   "outputs": [],
   "source": [
    "#tf.enable_eager_execution()"
   ]
  },
  {
   "cell_type": "code",
   "execution_count": 7,
   "metadata": {},
   "outputs": [
    {
     "name": "stdout",
     "output_type": "stream",
     "text": [
      "The autoreload extension is already loaded. To reload it, use:\n",
      "  %reload_ext autoreload\n"
     ]
    }
   ],
   "source": [
    "%load_ext autoreload\n",
    "%autoreload 2"
   ]
  },
  {
   "cell_type": "markdown",
   "metadata": {},
   "source": [
    "# Forward model priors and generator"
   ]
  },
  {
   "cell_type": "markdown",
   "metadata": {},
   "source": [
    "Currently, we have the following parameters:\n",
    "\n",
    "1. $\\alpha$ - inverse of incubation period (rate at which exposed move to infected)\n",
    "2. $\\beta$ - average contact rate in the population (I would model this in a more fine-grained manner\n",
    "3. $\\gamma$ - inverse of the mean infectous period (or rate at which infectious move to recovered)\n",
    "4. $d$ - death rate\n",
    "5. $\\rho$ - social distancing $\\in [0, 1]$"
   ]
  },
  {
   "cell_type": "code",
   "execution_count": 8,
   "metadata": {},
   "outputs": [],
   "source": [
    "def prior(batch_size):\n",
    "    \"\"\"\n",
    "    Samples from the prior 'batch_size' times.\n",
    "    ----------\n",
    "    \n",
    "    Arguments:\n",
    "    batch_size : int -- the number of samples to draw from the prior\n",
    "    ----------\n",
    "    \n",
    "    Output:\n",
    "    theta : np.ndarray of shape (batch_size, theta_dim) -- the samples batch of parameters\n",
    "    \"\"\"\n",
    "    \n",
    "\n",
    "    \n",
    "    theta = np.random.uniform(low=[0.8, 0.05, 0.05, 0.01], \n",
    "                              high=[3.25, 0.3, 0.3, 0.1], size=(batch_size, 4))\n",
    "    \n",
    "    return theta\n",
    "\n",
    "\n",
    "def forward_model(params, t):\n",
    "    \"\"\"Forward model of the SIRD.\"\"\"\n",
    "    \n",
    "    S_0, E_0, I_0, D_0, R_0 = params[:5]\n",
    "    S, E, I, D, R = [S_0], [E_0], [I_0], [D_0], [R_0]\n",
    "    \n",
    "    params = params[5:]\n",
    "    \n",
    "    #extract time dependent rhos from params\n",
    "    rhos = params[0:3]\n",
    "    rhos_t = params[3:6]\n",
    "    rhos_t = np.cumsum(np.exp(rhos_t))*t.shape[0]\n",
    "    rhos_t = np.clip(rhos_t.astype(np.int32),0,t.shape[0])\n",
    "    \n",
    "    #construct dense rhos array\n",
    "    rho = np.ones((t.shape[0]))\n",
    "    for i in range(rhos_t.shape[0]):\n",
    "        rho[rhos_t[i]:] = (np.tanh(rhos[i])+1)/2    \n",
    "\n",
    "    beta, alpha, gamma, d = params[6:]\n",
    "    dt = t[1] - t[0]\n",
    "    \n",
    "    for i,_ in enumerate(t[1:]):\n",
    "        \n",
    "        next_S = S[-1] + (-rho[i]*beta*S[-1]*I[-1])*dt\n",
    "        next_E = E[-1] + (rho[i]*beta*S[-1]*I[-1] - alpha*E[-1])*dt\n",
    "        next_I = I[-1] + (alpha*E[-1] - gamma*I[-1] - d*I[-1])*dt\n",
    "        next_R = R[-1] + (gamma*I[-1])*dt\n",
    "        next_D = D[-1] + (d*I[-1])*dt\n",
    "        \n",
    "        S.append(next_S)\n",
    "        E.append(next_E)\n",
    "        I.append(next_I)\n",
    "        D.append(next_D)\n",
    "        R.append(next_R)\n",
    "        \n",
    "    return np.stack([S, I, D, R]).T\n",
    "\n",
    "forward_model = partial(forward_model)"
   ]
  },
  {
   "cell_type": "code",
   "execution_count": 9,
   "metadata": {},
   "outputs": [],
   "source": [
    "def data_generator(batch_size, t_obs=None, t_min=30, t_max=100, dt=1, to_tensor=True, **args):\n",
    "    \"\"\"\n",
    "    Runs the forward model 'batch_size' times by first sampling fromt the prior\n",
    "    theta ~ p(theta) and running x ~ p(x|theta).\n",
    "    ----------\n",
    "    \n",
    "    Arguments:\n",
    "    batch_size : int -- the number of samples to draw from the prior\n",
    "    to_tensor  : boolean -- converts theta and x to tensors if True\n",
    "    ----------\n",
    "    \n",
    "    Output:\n",
    "    theta : tf.Tensor or np.ndarray of shape (batch_size, theta_dim) - the data gen parameters \n",
    "    x     : tf.Tensor of np.ndarray of shape (batch_size, n_obs, x_dim)  - the generated data\n",
    "    \"\"\"\n",
    "    N = np.random.randint(1*1e6,400*1e6,size=(batch_size,1))\n",
    "    E0 = np.random.randint(1,10,size=(batch_size,1))\n",
    "    I0 = np.random.randint(1,10,size=(batch_size,1))\n",
    "    D0 = np.zeros((batch_size,1))\n",
    "    R0 = np.zeros((batch_size,1))\n",
    "    \n",
    "    init_vals = np.concatenate([1 - 1/N, E0/N, I0/N, D0, R0],axis=1)\n",
    "    \n",
    "    # Sample from prior\n",
    "    # theta is a np.array of shape (batch_size, theta_dim)\n",
    "    theta = prior(batch_size)\n",
    "    \n",
    "    if t_obs is None:\n",
    "        t_obs = np.random.randint(t_min, t_max+1)\n",
    "    \n",
    "    t = np.linspace(0, t_obs, int(t_obs/dt) + 1)\n",
    "    \n",
    "    \n",
    "    #generate 3 random rhos with decreasing values\n",
    "    rhos = np.random.rand(batch_size,3)*0.6+0.4\n",
    "    rhos = np.cumprod(rhos,axis=1)\n",
    "    #print(\"rhos\", rhos)\n",
    "\n",
    "    rhos = np.arctanh(rhos*2-1)\n",
    "    rhos_t = np.random.randint(t_obs-1, size=(batch_size,4))+1\n",
    "    rhos_t = np.log(rhos_t / np.sum(rhos_t,axis=1,keepdims=True))[:,:3]\n",
    "    \n",
    "    #print(\"atanh_rhos\", rhos)\n",
    "    # construct rhoparam matrix\n",
    "    rhoparams = np.concatenate([rhos,rhos_t],axis=1)\n",
    "    \n",
    "    #construct new theta\n",
    "    theta = np.concatenate([rhoparams, theta],axis=1)\n",
    "\n",
    "    # construct thetap\n",
    "    thetap = np.concatenate([init_vals, theta],axis=1)\n",
    "    \n",
    "    # Generate data\n",
    "    # x is a np.ndarray of shape (batch_size, n_obs, x_dim)\n",
    "    x = np.apply_along_axis(forward_model, axis=1, arr=thetap, t=t, **args)\n",
    "    \n",
    "    # Convert to tensor, if specified \n",
    "    if to_tensor:\n",
    "        theta = tf.convert_to_tensor(theta, dtype=tf.float32)\n",
    "        x = tf.convert_to_tensor(x, dtype=tf.float32)\n",
    "    return {'theta': theta, 'x': x}"
   ]
  },
  {
   "cell_type": "markdown",
   "metadata": {},
   "source": [
    "# Training hyperparameters"
   ]
  },
  {
   "cell_type": "code",
   "execution_count": 10,
   "metadata": {},
   "outputs": [],
   "source": [
    "# Network hyperparameters\n",
    "inv_meta = {\n",
    "    'n_units': [128, 128, 128],\n",
    "    'activation': 'elu',\n",
    "    'w_decay': 0.00001,\n",
    "    'initializer': 'glorot_uniform'\n",
    "}\n",
    "n_inv_blocks = 6\n",
    "\n",
    "\n",
    "summary_meta = {\n",
    "    'lstm_units' :  64,\n",
    "    'conv_meta'  : [\n",
    "            dict(filters=64, kernel_size=5, strides=1, activation='elu', kernel_initializer='glorot_normal', padding='same'),\n",
    "            dict(filters=64, kernel_size=3, strides=1, activation='elu', kernel_initializer='glorot_normal', padding='same'),\n",
    "            dict(filters=64, kernel_size=3, strides=1, activation='elu', kernel_initializer='glorot_normal', padding='same'),\n",
    "            dict(filters=64, kernel_size=3, strides=1, activation='elu', kernel_initializer='glorot_normal', padding='same'),\n",
    "            dict(filters=64, kernel_size=3, strides=1, activation='elu', kernel_initializer='glorot_normal', padding='same'),\n",
    "    ],\n",
    "}\n",
    "\n",
    "\n",
    "# Forward model hyperparameters\n",
    "param_names = [r'atanh-rho1',r'atanh-rho2',r'atanh-rho3',r'log-t1',r'log-t2',r'log-t3',r'$\\beta$', r'$\\alpha$', r'$\\gamma$', r'$d$']\n",
    "theta_dim = len(param_names)\n",
    "n_test = 500\n",
    "\n",
    "\n",
    "# Training and optimizer hyperparameters\n",
    "ckpt_file = \"SEIDR_learn_rho\"\n",
    "batch_size = 64\n",
    "epochs = 1000\n",
    "iterations_per_epoch = 500\n",
    "n_samples_posterior = 2000\n",
    "clip_value = 5.\n",
    "\n",
    "starter_learning_rate = 0.0005\n",
    "\n",
    "#global_step = tfe.Variable(0, dtype=tf.int32)\n",
    "global_step = tf.Variable(0, dtype=tf.int32)\n",
    "\n",
    "decay_steps = 1000\n",
    "decay_rate = .99\n",
    "learning_rate = tf.compat.v1.train.exponential_decay(starter_learning_rate, global_step, \n",
    "                                           decay_steps, decay_rate, staircase=True)\n",
    "optimizer = tf.compat.v1.train.AdamOptimizer(learning_rate=learning_rate)\n",
    "\n",
    "data_gen = partial(data_generator, t_min=30, t_max=120)"
   ]
  },
  {
   "cell_type": "markdown",
   "metadata": {},
   "source": [
    "## Create test data"
   ]
  },
  {
   "cell_type": "code",
   "execution_count": 11,
   "metadata": {},
   "outputs": [
    {
     "name": "stdout",
     "output_type": "stream",
     "text": [
      "CPU times: user 309 ms, sys: 4.46 ms, total: 313 ms\n",
      "Wall time: 308 ms\n"
     ]
    }
   ],
   "source": [
    "%%time\n",
    "test_data = data_gen(n_test, t_obs=100)"
   ]
  },
  {
   "cell_type": "markdown",
   "metadata": {},
   "source": [
    "## Create networks"
   ]
  },
  {
   "cell_type": "code",
   "execution_count": 12,
   "metadata": {},
   "outputs": [],
   "source": [
    "summary_net = SequenceNetwork(summary_meta)\n",
    "model = BayesFlow(inv_meta, n_inv_blocks, theta_dim, summary_net=summary_net, permute=True)"
   ]
  },
  {
   "cell_type": "markdown",
   "metadata": {},
   "source": [
    "## Compile \n",
    "<p>In other words, run and plot performance of untrained networks.</p>"
   ]
  },
  {
   "cell_type": "code",
   "execution_count": 13,
   "metadata": {},
   "outputs": [
    {
     "data": {
      "image/png": "[encoded data removed]",
      "text/plain": [
       "<Figure size 864x216 with 10 Axes>"
      ]
     },
     "metadata": {
      "needs_background": "light"
     },
     "output_type": "display_data"
    }
   ],
   "source": [
    "plot_true_est_scatter(model, test_data['x'], test_data['theta'], \n",
    "                      n_samples_posterior, param_names, figsize=(12, 3))"
   ]
  },
  {
   "cell_type": "markdown",
   "metadata": {},
   "source": [
    "## Manage checkpoints"
   ]
  },
  {
   "cell_type": "code",
   "execution_count": 14,
   "metadata": {},
   "outputs": [
    {
     "name": "stdout",
     "output_type": "stream",
     "text": [
      "Restored from ./checkpoints/SEIDR_learn_rho/ckpt-5\n"
     ]
    }
   ],
   "source": [
    "checkpoint = tf.train.Checkpoint(step=global_step, optimizer=optimizer, net=model)\n",
    "manager = tf.train.CheckpointManager(checkpoint, './checkpoints/{}'.format(ckpt_file), max_to_keep=3)\n",
    "checkpoint.restore(manager.latest_checkpoint)\n",
    "if manager.latest_checkpoint:\n",
    "    print(\"Restored from {}\".format(manager.latest_checkpoint))\n",
    "else:\n",
    "    print(\"Initializing from scratch.\")"
   ]
  },
  {
   "cell_type": "markdown",
   "metadata": {},
   "source": [
    "# Train networks"
   ]
  },
  {
   "cell_type": "code",
   "execution_count": 15,
   "metadata": {},
   "outputs": [],
   "source": [
    "optimizer = tf.compat.v1.train.AdamOptimizer(learning_rate=0.0001)"
   ]
  },
  {
   "cell_type": "code",
   "execution_count": null,
   "metadata": {},
   "outputs": [
    {
     "name": "stderr",
     "output_type": "stream",
     "text": [
      "/home/cstraehle/anaconda3/envs/corona/lib/python3.7/site-packages/ipykernel_launcher.py:2: TqdmDeprecationWarning: This function will be removed in tqdm==5.0.0\n",
      "Please use `tqdm.notebook.tqdm` instead of `tqdm.tqdm_notebook`\n",
      "  \n"
     ]
    },
    {
     "data": {
      "application/vnd.jupyter.widget-view+json": {
       "model_id": "80db0e19387e4729bd6f72a66cdd0c60",
       "version_major": 2,
       "version_minor": 0
      },
      "text/plain": [
       "HBox(children=(FloatProgress(value=0.0, description='Training epoch 1', max=500.0, style=ProgressStyle(descrip…"
      ]
     },
     "metadata": {},
     "output_type": "display_data"
    },
    {
     "name": "stdout",
     "output_type": "stream",
     "text": [
      "WARNING:tensorflow:From /home/cstraehle/anaconda3/envs/corona/lib/python3.7/site-packages/tensorflow_core/python/ops/array_grad.py:563: _EagerTensorBase.cpu (from tensorflow.python.framework.ops) is deprecated and will be removed in a future version.\n",
      "Instructions for updating:\n",
      "Use tf.identity instead.\n"
     ]
    }
   ],
   "source": [
    "%%time\n",
    "for ep in range(1, epochs):\n",
    "    with tqdm(total=iterations_per_epoch, desc='Training epoch {}'.format(ep)) as p_bar:\n",
    "        \n",
    "        losses = train_online(model=model, \n",
    "                              optimizer=optimizer, \n",
    "                              data_gen=data_generator, \n",
    "                              loss_fun=maximum_likelihood_loss, \n",
    "                              iterations=iterations_per_epoch,\n",
    "                              batch_size=batch_size,\n",
    "                              p_bar=p_bar,\n",
    "                              clip_value=clip_value,\n",
    "                              clip_method='value',\n",
    "                              global_step=global_step)\n",
    "        \n",
    "        plot_true_est_scatter(model, test_data['x'], test_data['theta'], \n",
    "                      n_samples_posterior, param_names, figsize=(12, 3))\n",
    "        \n",
    "        plot_true_est_posterior(model, 2000, param_names, font_size=8,\n",
    "                        X_test=test_data['x'][:5], \n",
    "                        theta_test=test_data['theta'][:5], figsize=(12, 8))\n",
    "\n",
    "        # Manage checkpoint\n",
    "        manager.save()"
   ]
  },
  {
   "cell_type": "code",
   "execution_count": null,
   "metadata": {},
   "outputs": [],
   "source": [
    "t_obs = 100\n",
    "dt = 1    \n",
    "t = np.linspace(0, t_obs, int(t_obs/dt) + 1)\n",
    "params = np.array([1.2, 0.75, 0.2, 0.1, 0.6])\n",
    "ts = forward_model(params, t=t)\n",
    "labels = ['S', 'I', 'D', 'R']\n",
    "\n",
    "f, ax = plt.subplots(1, 1, figsize=(15, 10))\n",
    "for i in range(4):\n",
    "    ax.plot(ts[:, i], label=labels[i], lw=2)\n",
    "\n",
    "plt.legend()\n",
    "ts_t = tf.convert_to_tensor(ts[np.newaxis], dtype=tf.float32)\n",
    "\n",
    "\n",
    "theta_hat = model.sample(ts_t, 5000, to_numpy=True)\n",
    "\n",
    "f, axarr = plt.subplots(1, 5, figsize=(12, 3))\n",
    "for i in range(5):\n",
    "    \n",
    "    sns.distplot(theta_hat[:, i], ax=axarr[i], kde=False)\n",
    "    axarr[i].axvline(params[i], color='black')\n",
    "    \n",
    "f.tight_layout()"
   ]
  },
  {
   "cell_type": "code",
   "execution_count": null,
   "metadata": {},
   "outputs": [],
   "source": [
    "t_obs = 30\n",
    "dt = 1    \n",
    "t = np.linspace(0, t_obs, int(t_obs/dt) + 1)\n",
    "params = np.array([1.2, 0.75, 0.2, 0.1, 0.99])\n",
    "ts = forward_model(params, t=t)\n",
    "labels = ['S', 'I', 'D', 'R']\n",
    "\n",
    "f, ax = plt.subplots(1, 1, figsize=(15, 10))\n",
    "for i in range(4):\n",
    "    ax.plot(ts[:, i], label=labels[i], lw=2)\n",
    "\n",
    "plt.legend()\n",
    "ts_t = tf.convert_to_tensor(ts[np.newaxis], dtype=tf.float32)\n",
    "\n",
    "\n",
    "theta_hat = model.sample(ts_t, 5000, to_numpy=True)\n",
    "\n",
    "f, axarr = plt.subplots(1, 5, figsize=(12, 3))\n",
    "for i in range(5):\n",
    "    \n",
    "    sns.distplot(theta_hat[:, i], ax=axarr[i], kde=False)\n",
    "    axarr[i].axvline(params[i], color='black')\n",
    "    \n",
    "f.tight_layout()"
   ]
  },
  {
   "cell_type": "code",
   "execution_count": null,
   "metadata": {},
   "outputs": [],
   "source": [
    "params"
   ]
  },
  {
   "cell_type": "code",
   "execution_count": null,
   "metadata": {},
   "outputs": [],
   "source": [
    "theta_hat.mean(0)"
   ]
  },
  {
   "cell_type": "code",
   "execution_count": 28,
   "metadata": {},
   "outputs": [
    {
     "name": "stdout",
     "output_type": "stream",
     "text": [
      "[PhysicalDevice(name='/physical_device:GPU:0', device_type='GPU')]\n",
      "tf.Tensor(\n",
      "[[22. 28.]\n",
      " [49. 64.]], shape=(2, 2), dtype=float32)\n"
     ]
    }
   ],
   "source": []
  },
  {
   "cell_type": "code",
   "execution_count": null,
   "metadata": {},
   "outputs": [],
   "source": []
  },
  {
   "cell_type": "code",
   "execution_count": null,
   "metadata": {},
   "outputs": [],
   "source": []
  }
 ],
 "metadata": {
  "kernelspec": {
   "display_name": "corona",
   "language": "python",
   "name": "corona"
  },
  "language_info": {
   "codemirror_mode": {
    "name": "ipython",
    "version": 3
   },
   "file_extension": ".py",
   "mimetype": "text/x-python",
   "name": "python",
   "nbconvert_exporter": "python",
   "pygments_lexer": "ipython3",
   "version": "3.7.7"
  },
  "toc": {
   "base_numbering": 1,
   "nav_menu": {},
   "number_sections": true,
   "sideBar": true,
   "skip_h1_title": false,
   "title_cell": "Table of Contents",
   "title_sidebar": "Contents",
   "toc_cell": false,
   "toc_position": {
    "height": "calc(100% - 180px)",
    "left": "10px",
    "top": "150px",
    "width": "196.6px"
   },
   "toc_section_display": true,
   "toc_window_display": true
  }
 },
 "nbformat": 4,
 "nbformat_minor": 4
}
