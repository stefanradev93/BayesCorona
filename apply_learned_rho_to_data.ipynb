{
 "cells": [
  {
   "cell_type": "code",
   "execution_count": 1,
   "metadata": {},
   "outputs": [],
   "source": [
    "import tensorflow as tf\n",
    "from tensorflow.keras.regularizers import l2\n",
    "#import tensorflow.contrib.eager as tfe\n",
    "from functools import partial\n",
    "import pandas as pd\n",
    "import seaborn as sns\n",
    "import matplotlib.pyplot as plt\n",
    "\n",
    "from sklearn.calibration import calibration_curve\n",
    "import matplotlib.tri as tri\n",
    "from scipy.special import betaln\n",
    "from scipy.stats import beta\n",
    "from scipy import stats\n",
    "from scipy.special import gamma as gamma_fun\n",
    "import scipy.special as spec\n",
    "import matplotlib.pyplot as plt\n",
    "from tqdm import tqdm_notebook as tqdm\n",
    "import numpy as np\n",
    "np.set_printoptions(suppress=True)\n",
    "\n",
    "\n",
    "from numba import jit\n",
    "from data import priors\n",
    "from data.data import enhance_contrast\n",
    "from deep_bayes.models import BayesFlow, SequenceNetwork\n",
    "from deep_bayes.training import train_online\n",
    "from deep_bayes.losses import maximum_likelihood_loss\n",
    "from deep_bayes.viz import plot_true_est_scatter, plot_true_est_posterior\n",
    "tf.keras.backend.set_floatx('float64')"
   ]
  },
  {
   "cell_type": "code",
   "execution_count": 2,
   "metadata": {},
   "outputs": [
    {
     "name": "stdout",
     "output_type": "stream",
     "text": [
      "theta_dim 13\n",
      "Restored from ./checkpoints/SEIDR_learn_rho_E0/ckpt-1\n"
     ]
    }
   ],
   "source": [
    "param_names = priors.rh_names + priors.th_names \n",
    "theta_dim = len(param_names)\n",
    "\n",
    "# Network hyperparameters\n",
    "inv_meta = {\n",
    "    'n_units': [256, 256, 256],\n",
    "    'activation': 'elu',\n",
    "    'w_decay': 0.00001,\n",
    "    'initializer': 'glorot_uniform'\n",
    "}\n",
    "n_inv_blocks = 6\n",
    "\n",
    "\n",
    "summary_meta = {\n",
    "    'lstm_units' :  96,\n",
    "    'conv_meta'  : [\n",
    "            dict(filters=64, kernel_size=5, strides=1, activation='elu', kernel_initializer='glorot_normal', padding='same'),\n",
    "            dict(filters=64, kernel_size=3, strides=1, activation='elu', kernel_initializer='glorot_normal', padding='same'),\n",
    "            dict(filters=64, kernel_size=3, strides=1, activation='elu', kernel_initializer='glorot_normal', padding='same'),\n",
    "            dict(filters=64, kernel_size=3, strides=1, activation='elu', kernel_initializer='glorot_normal', padding='same'),\n",
    "            dict(filters=64, kernel_size=3, strides=1, activation='elu', kernel_initializer='glorot_normal', padding='same'),\n",
    "    ],\n",
    "}\n",
    "\n",
    "ckpt_file = \"SEIDR_learn_rho_E0\"\n",
    "\n",
    "global_step = tf.Variable(0, dtype=tf.int32)\n",
    "\n",
    "decay_steps = 1000\n",
    "decay_rate = .99\n",
    "starter_learning_rate = 0.0005\n",
    "learning_rate = tf.compat.v1.train.exponential_decay(starter_learning_rate, global_step, \n",
    "                                           decay_steps, decay_rate, staircase=True)\n",
    "optimizer = tf.compat.v1.train.AdamOptimizer(learning_rate=learning_rate)\n",
    "\n",
    "summary_net = SequenceNetwork(summary_meta)\n",
    "print(\"theta_dim\", theta_dim)\n",
    "model = BayesFlow(inv_meta, n_inv_blocks, theta_dim, summary_net=summary_net, permute=True)\n",
    "checkpoint = tf.train.Checkpoint(step=global_step, optimizer=optimizer, net=model)\n",
    "manager = tf.train.CheckpointManager(checkpoint, './checkpoints/{}'.format(ckpt_file), max_to_keep=3)\n",
    "checkpoint.restore(manager.latest_checkpoint)\n",
    "if manager.latest_checkpoint:\n",
    "    print(\"Restored from {}\".format(manager.latest_checkpoint))\n",
    "else:\n",
    "    print(\"No model found! initializing from scratch\")"
   ]
  },
  {
   "cell_type": "code",
   "execution_count": 3,
   "metadata": {},
   "outputs": [
    {
     "name": "stdout",
     "output_type": "stream",
     "text": [
      "S [60000000. 59999998. 59999998. 59999998. 59999998. 59999998. 59999998.\n",
      " 59999998. 59999997. 59999997. 59999997. 59999997. 59999997. 59999997.\n",
      " 59999997. 59999997. 59999997. 59999997. 59999997. 59999997. 59999997.\n",
      " 59999997. 59999979. 59999935. 59999840. 59999763. 59999667. 59999532.\n",
      " 59999283. 59999045. 59998797. 59998189. 59997763. 59997259. 59996528.\n",
      " 59995580. 59994644. 59993295. 59991637. 59989641. 59988496. 59985666.\n",
      " 59985666. 59979635. 59975436. 59971109. 59967113. 59963050. 59957284.\n",
      " 59951120. 59944507. 59935525. 59928362. 59922972. 59915678. 59908749.\n",
      " 59900835. 59893418. 59885121. 59878502.]\n",
      "I [    0     2     2     2     2     2     2     2     3     3     3     3\n",
      "     3     3     3     3     3     3     3     3     3     3    20    62\n",
      "   155   229   322   453   655   888  1128  1694  2036  2502  3089  3858\n",
      "  4636  5883  7375  9172 10149 12462 12462 17660 21157 24747 27980 31506\n",
      " 35713 41035 47021 53578 59138 63927 69176 74386 80589 86498 92472 97689]\n",
      "D [    0     0     0     0     0     0     0     0     0     0     0     0\n",
      "     0     0     0     0     0     0     0     0     0     0     1     2\n",
      "     3     7    10    12    17    21    29    34    52    79   107   148\n",
      "   197   233   366   463   631   827   827  1266  1441  1809  2158  2503\n",
      "  2978  3405  4032  4825  5476  6077  6820  7503  8215  9134 10023 10779]\n",
      "R [    0     0     0     0     0     0     0     0     0     0     0     0\n",
      "     0     0     0     0     0     0     0     0     0     0     0     1\n",
      "     2     1     1     3    45    46    46    83   149   160   276   414\n",
      "   523   589   622   724   724  1045  1045  1439  1966  2335  2749  2941\n",
      "  4025  4440  4440  6072  7024  7024  8326  9362 10361 10950 12384 13030]\n",
      "S [1.         0.99999997 0.99999997 0.99999997 0.99999997 0.99999997\n",
      " 0.99999997 0.99999997 0.99999995 0.99999995 0.99999995 0.99999995\n",
      " 0.99999995 0.99999995 0.99999995 0.99999995 0.99999995 0.99999995\n",
      " 0.99999995 0.99999995 0.99999995 0.99999995 0.99999965 0.99999892\n",
      " 0.99999733 0.99999605 0.99999445 0.9999922  0.99998805 0.99998408\n",
      " 0.99997995 0.99996982 0.99996272 0.99995432 0.99994213 0.99992633\n",
      " 0.99991073 0.99988825 0.99986062 0.99982735 0.99980827 0.9997611\n",
      " 0.9997611  0.99966058 0.9995906  0.99951848 0.99945188 0.99938417\n",
      " 0.99928807 0.99918533 0.99907512 0.99892542 0.99880603 0.9987162\n",
      " 0.99859463 0.99847915 0.99834725 0.99822363 0.99808535 0.99797503]\n",
      "I [0.         0.00000003 0.00000003 0.00000003 0.00000003 0.00000003\n",
      " 0.00000003 0.00000003 0.00000005 0.00000005 0.00000005 0.00000005\n",
      " 0.00000005 0.00000005 0.00000005 0.00000005 0.00000005 0.00000005\n",
      " 0.00000005 0.00000005 0.00000005 0.00000005 0.00000033 0.00000103\n",
      " 0.00000258 0.00000382 0.00000537 0.00000755 0.00001092 0.0000148\n",
      " 0.0000188  0.00002823 0.00003393 0.0000417  0.00005148 0.0000643\n",
      " 0.00007727 0.00009805 0.00012292 0.00015287 0.00016915 0.0002077\n",
      " 0.0002077  0.00029433 0.00035262 0.00041245 0.00046633 0.0005251\n",
      " 0.00059522 0.00068392 0.00078368 0.00089297 0.00098563 0.00106545\n",
      " 0.00115293 0.00123977 0.00134315 0.00144163 0.0015412  0.00162815]\n",
      "D [0.         0.         0.         0.         0.         0.\n",
      " 0.         0.         0.         0.         0.         0.\n",
      " 0.         0.         0.         0.         0.         0.\n",
      " 0.         0.         0.         0.         0.00000002 0.00000003\n",
      " 0.00000005 0.00000012 0.00000017 0.0000002  0.00000028 0.00000035\n",
      " 0.00000048 0.00000057 0.00000087 0.00000132 0.00000178 0.00000247\n",
      " 0.00000328 0.00000388 0.0000061  0.00000772 0.00001052 0.00001378\n",
      " 0.00001378 0.0000211  0.00002402 0.00003015 0.00003597 0.00004172\n",
      " 0.00004963 0.00005675 0.0000672  0.00008042 0.00009127 0.00010128\n",
      " 0.00011367 0.00012505 0.00013692 0.00015223 0.00016705 0.00017965]\n",
      "R [0.         0.         0.         0.         0.         0.\n",
      " 0.         0.         0.         0.         0.         0.\n",
      " 0.         0.         0.         0.         0.         0.\n",
      " 0.         0.         0.         0.         0.         0.00000002\n",
      " 0.00000003 0.00000002 0.00000002 0.00000005 0.00000075 0.00000077\n",
      " 0.00000077 0.00000138 0.00000248 0.00000267 0.0000046  0.0000069\n",
      " 0.00000872 0.00000982 0.00001037 0.00001207 0.00001207 0.00001742\n",
      " 0.00001742 0.00002398 0.00003277 0.00003892 0.00004582 0.00004902\n",
      " 0.00006708 0.000074   0.000074   0.0001012  0.00011707 0.00011707\n",
      " 0.00013877 0.00015603 0.00017268 0.0001825  0.0002064  0.00021717]\n"
     ]
    }
   ],
   "source": [
    "from data.data import load_country\n",
    "\n",
    "S,I,D,R = load_country(60*1e6, \"Italy\")\n",
    "\n",
    "data = enhance_contrast(np.stack([S,I,D,R]).T[None,:,:])\n",
    "\n",
    "print(\"S\", S)\n",
    "print(\"I\", I)\n",
    "print(\"D\", D)\n",
    "print(\"R\", R)"
   ]
  },
  {
   "cell_type": "code",
   "execution_count": 5,
   "metadata": {},
   "outputs": [
    {
     "ename": "ValueError",
     "evalue": "operands could not be broadcast together with shapes (5000,6) (1,5) ",
     "output_type": "error",
     "traceback": [
      "\u001b[0;31m---------------------------------------------------------------------------\u001b[0m",
      "\u001b[0;31mValueError\u001b[0m                                Traceback (most recent call last)",
      "\u001b[0;32m<ipython-input-5-8b294dd6fd8b>\u001b[0m in \u001b[0;36m<module>\u001b[0;34m\u001b[0m\n\u001b[1;32m      6\u001b[0m \u001b[0mtheta_hat\u001b[0m\u001b[0;34m[\u001b[0m\u001b[0;34m:\u001b[0m\u001b[0;34m,\u001b[0m\u001b[0;36m3\u001b[0m\u001b[0;34m:\u001b[0m\u001b[0;36m7\u001b[0m\u001b[0;34m]\u001b[0m \u001b[0;34m=\u001b[0m \u001b[0mtheta_hat\u001b[0m\u001b[0;34m[\u001b[0m\u001b[0;34m:\u001b[0m\u001b[0;34m,\u001b[0m\u001b[0;36m3\u001b[0m\u001b[0;34m:\u001b[0m\u001b[0;36m7\u001b[0m\u001b[0;34m]\u001b[0m \u001b[0;34m/\u001b[0m \u001b[0mnp\u001b[0m\u001b[0;34m.\u001b[0m\u001b[0msum\u001b[0m\u001b[0;34m(\u001b[0m\u001b[0mtheta_hat\u001b[0m\u001b[0;34m[\u001b[0m\u001b[0;34m:\u001b[0m\u001b[0;34m,\u001b[0m\u001b[0;36m3\u001b[0m\u001b[0;34m:\u001b[0m\u001b[0;36m7\u001b[0m\u001b[0;34m]\u001b[0m\u001b[0;34m,\u001b[0m \u001b[0maxis\u001b[0m\u001b[0;34m=\u001b[0m\u001b[0;36m1\u001b[0m\u001b[0;34m,\u001b[0m \u001b[0mkeepdims\u001b[0m \u001b[0;34m=\u001b[0m \u001b[0;32mTrue\u001b[0m\u001b[0;34m)\u001b[0m\u001b[0;34m\u001b[0m\u001b[0;34m\u001b[0m\u001b[0m\n\u001b[1;32m      7\u001b[0m \u001b[0mtheta_hat\u001b[0m\u001b[0;34m[\u001b[0m\u001b[0;34m:\u001b[0m\u001b[0;34m,\u001b[0m\u001b[0;36m3\u001b[0m\u001b[0;34m:\u001b[0m\u001b[0;36m7\u001b[0m\u001b[0;34m]\u001b[0m \u001b[0;34m=\u001b[0m \u001b[0mnp\u001b[0m\u001b[0;34m.\u001b[0m\u001b[0mcumsum\u001b[0m\u001b[0;34m(\u001b[0m\u001b[0;34m(\u001b[0m\u001b[0mtheta_hat\u001b[0m\u001b[0;34m[\u001b[0m\u001b[0;34m:\u001b[0m\u001b[0;34m,\u001b[0m\u001b[0;36m3\u001b[0m\u001b[0;34m:\u001b[0m\u001b[0;36m7\u001b[0m\u001b[0;34m]\u001b[0m\u001b[0;34m)\u001b[0m\u001b[0;34m,\u001b[0m\u001b[0maxis\u001b[0m\u001b[0;34m=\u001b[0m\u001b[0;36m1\u001b[0m\u001b[0;34m)\u001b[0m\u001b[0;34m*\u001b[0m\u001b[0mS\u001b[0m\u001b[0;34m.\u001b[0m\u001b[0mshape\u001b[0m\u001b[0;34m[\u001b[0m\u001b[0;36m0\u001b[0m\u001b[0;34m]\u001b[0m\u001b[0;34m\u001b[0m\u001b[0;34m\u001b[0m\u001b[0m\n\u001b[0;32m----> 8\u001b[0;31m \u001b[0mtheta_hat\u001b[0m\u001b[0;34m[\u001b[0m\u001b[0;34m:\u001b[0m\u001b[0;34m,\u001b[0m\u001b[0;36m7\u001b[0m\u001b[0;34m:\u001b[0m\u001b[0;34m]\u001b[0m \u001b[0;34m=\u001b[0m \u001b[0mthetaed\u001b[0m\u001b[0;34m.\u001b[0m\u001b[0mdecode\u001b[0m\u001b[0;34m(\u001b[0m\u001b[0mtheta_hat\u001b[0m\u001b[0;34m[\u001b[0m\u001b[0;34m:\u001b[0m\u001b[0;34m,\u001b[0m\u001b[0;36m7\u001b[0m\u001b[0;34m:\u001b[0m\u001b[0;34m]\u001b[0m\u001b[0;34m,\u001b[0m \u001b[0mth_low\u001b[0m\u001b[0;34m,\u001b[0m \u001b[0mth_high\u001b[0m\u001b[0;34m)\u001b[0m\u001b[0;34m\u001b[0m\u001b[0;34m\u001b[0m\u001b[0m\n\u001b[0m\u001b[1;32m      9\u001b[0m \u001b[0;34m\u001b[0m\u001b[0m\n\u001b[1;32m     10\u001b[0m \u001b[0mtheta_means\u001b[0m \u001b[0;34m=\u001b[0m \u001b[0mnp\u001b[0m\u001b[0;34m.\u001b[0m\u001b[0mmean\u001b[0m\u001b[0;34m(\u001b[0m\u001b[0mtheta_hat\u001b[0m\u001b[0;34m,\u001b[0m\u001b[0maxis\u001b[0m\u001b[0;34m=\u001b[0m\u001b[0;36m0\u001b[0m\u001b[0;34m)\u001b[0m\u001b[0;34m\u001b[0m\u001b[0;34m\u001b[0m\u001b[0m\n",
      "\u001b[0;32m~/Projects/BayesCorona/deep_bayes/theta.py\u001b[0m in \u001b[0;36mdecode\u001b[0;34m(etheta, plow, phigh)\u001b[0m\n\u001b[1;32m     18\u001b[0m         \u001b[0mphigh\u001b[0m\u001b[0;34m=\u001b[0m\u001b[0mphigh\u001b[0m\u001b[0;34m[\u001b[0m\u001b[0;32mNone\u001b[0m\u001b[0;34m,\u001b[0m\u001b[0;34m:\u001b[0m\u001b[0;34m]\u001b[0m\u001b[0;34m\u001b[0m\u001b[0;34m\u001b[0m\u001b[0m\n\u001b[1;32m     19\u001b[0m \u001b[0;34m\u001b[0m\u001b[0m\n\u001b[0;32m---> 20\u001b[0;31m     \u001b[0mtheta\u001b[0m \u001b[0;34m=\u001b[0m \u001b[0;34m(\u001b[0m\u001b[0mnp\u001b[0m\u001b[0;34m.\u001b[0m\u001b[0mtanh\u001b[0m\u001b[0;34m(\u001b[0m\u001b[0metheta\u001b[0m\u001b[0;34m)\u001b[0m\u001b[0;34m+\u001b[0m\u001b[0;36m1\u001b[0m\u001b[0;34m)\u001b[0m\u001b[0;34m/\u001b[0m\u001b[0;36m2\u001b[0m\u001b[0;34m*\u001b[0m\u001b[0;34m(\u001b[0m\u001b[0mphigh\u001b[0m\u001b[0;34m-\u001b[0m\u001b[0mplow\u001b[0m\u001b[0;34m)\u001b[0m\u001b[0;34m+\u001b[0m\u001b[0mplow\u001b[0m\u001b[0;34m\u001b[0m\u001b[0;34m\u001b[0m\u001b[0m\n\u001b[0m\u001b[1;32m     21\u001b[0m     \u001b[0;32mreturn\u001b[0m \u001b[0mtheta\u001b[0m\u001b[0;34m\u001b[0m\u001b[0;34m\u001b[0m\u001b[0m\n",
      "\u001b[0;31mValueError\u001b[0m: operands could not be broadcast together with shapes (5000,6) (1,5) "
     ]
    }
   ],
   "source": [
    "theta_hat = model.sample(data, 5000, to_numpy=True)\n",
    "\n",
    "# restore original rho and rho_t parameters\n",
    "from deep_bayes import theta as thetaed\n",
    "theta_hat[:,0:7] = thetaed.decode(theta_hat[:,0:7], priors.rh_low, priors.rh_high)\n",
    "theta_hat[:,3:7] = theta_hat[:,3:7] / np.sum(theta_hat[:,3:7], axis=1, keepdims = True)\n",
    "theta_hat[:,3:7] = np.cumsum((theta_hat[:,3:7]),axis=1)*S.shape[0]\n",
    "theta_hat[:,7:] = thetaed.decode(theta_hat[:,7:], priors.th_low, priors.th_high)\n",
    "\n",
    "theta_means = np.mean(theta_hat,axis=0)\n"
   ]
  },
  {
   "cell_type": "markdown",
   "metadata": {},
   "source": [
    "## Sow inferene results"
   ]
  },
  {
   "cell_type": "code",
   "execution_count": null,
   "metadata": {},
   "outputs": [],
   "source": [
    "print(\"Time series length\", S.shape[0])\n",
    "\n",
    "f, axarr = plt.subplots(1, theta_hat.shape[1], figsize=(12, 3))\n",
    "for i in range(theta_hat.shape[1]):\n",
    "    \n",
    "    sns.distplot(theta_hat[:, i], ax=axarr[i], kde=False)\n",
    "    axarr[i].axvline(theta_means[i], color='black')\n",
    "\n",
    "    axarr[i].set_title(param_names[i])\n",
    "f.tight_layout()\n",
    "\n",
    "for i in range(theta_hat.shape[1]):\n",
    "    print(param_names[i],theta_means[i])"
   ]
  },
  {
   "cell_type": "markdown",
   "metadata": {},
   "source": [
    "Currently, we have the following parameters:\n",
    "\n",
    "1. $\\alpha$ - inverse of incubation period (rate at which exposed move to infected)\n",
    "2. $\\beta$ - average contact rate in the population (I would model this in a more fine-grained manner\n",
    "3. $\\gamma$ - inverse of the mean infectous period (or rate at which infectious move to recovered)\n",
    "4. $d$ - death rate\n",
    "5. $\\rho$ - social distancing $\\in [0, 1]$"
   ]
  },
  {
   "cell_type": "code",
   "execution_count": null,
   "metadata": {},
   "outputs": [],
   "source": []
  }
 ],
 "metadata": {
  "kernelspec": {
   "display_name": "corona",
   "language": "python",
   "name": "corona"
  },
  "language_info": {
   "codemirror_mode": {
    "name": "ipython",
    "version": 3
   },
   "file_extension": ".py",
   "mimetype": "text/x-python",
   "name": "python",
   "nbconvert_exporter": "python",
   "pygments_lexer": "ipython3",
   "version": "3.7.7"
  }
 },
 "nbformat": 4,
 "nbformat_minor": 4
}
