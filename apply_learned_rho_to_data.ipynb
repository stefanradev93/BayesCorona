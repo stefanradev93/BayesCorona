{
 "cells": [
  {
   "cell_type": "code",
   "execution_count": 1,
   "metadata": {},
   "outputs": [],
   "source": [
    "import tensorflow as tf\n",
    "from tensorflow.keras.regularizers import l2\n",
    "#import tensorflow.contrib.eager as tfe\n",
    "from functools import partial\n",
    "import pandas as pd\n",
    "import seaborn as sns\n",
    "import matplotlib.pyplot as plt\n",
    "\n",
    "from sklearn.calibration import calibration_curve\n",
    "import matplotlib.tri as tri\n",
    "from scipy.special import betaln\n",
    "from scipy.stats import beta\n",
    "from scipy import stats\n",
    "from scipy.special import gamma as gamma_fun\n",
    "import scipy.special as spec\n",
    "import matplotlib.pyplot as plt\n",
    "from tqdm import tqdm_notebook as tqdm\n",
    "import numpy as np\n",
    "np.set_printoptions(suppress=True)\n",
    "\n",
    "\n",
    "from numba import jit\n",
    "\n",
    "from deep_bayes.models import BayesFlow, SequenceNetwork\n",
    "from deep_bayes.training import train_online\n",
    "from deep_bayes.losses import maximum_likelihood_loss\n",
    "from deep_bayes.viz import plot_true_est_scatter, plot_true_est_posterior"
   ]
  },
  {
   "cell_type": "code",
   "execution_count": 2,
   "metadata": {},
   "outputs": [
    {
     "name": "stdout",
     "output_type": "stream",
     "text": [
      "Restored from ./checkpoints/SEIDR_learn_rho/ckpt-3\n"
     ]
    }
   ],
   "source": [
    "param_names = [r'rho1',r'rho2',r'rho3',r'rho-t1',r'rho-t2',r'rho-t3',r'p', r'$\\beta$', r'$\\alpha$', r'$\\gamma$', r'$d$']\n",
    "theta_dim = len(param_names)\n",
    "\n",
    "# Network hyperparameters\n",
    "inv_meta = {\n",
    "    'n_units': [128, 128, 128],\n",
    "    'activation': 'elu',\n",
    "    'w_decay': 0.00001,\n",
    "    'initializer': 'glorot_uniform'\n",
    "}\n",
    "n_inv_blocks = 6\n",
    "\n",
    "\n",
    "summary_meta = {\n",
    "    'lstm_units' :  64,\n",
    "    'conv_meta'  : [\n",
    "            dict(filters=64, kernel_size=5, strides=1, activation='elu', kernel_initializer='glorot_normal', padding='same'),\n",
    "            dict(filters=64, kernel_size=3, strides=1, activation='elu', kernel_initializer='glorot_normal', padding='same'),\n",
    "            dict(filters=64, kernel_size=3, strides=1, activation='elu', kernel_initializer='glorot_normal', padding='same'),\n",
    "            dict(filters=64, kernel_size=3, strides=1, activation='elu', kernel_initializer='glorot_normal', padding='same'),\n",
    "            dict(filters=64, kernel_size=3, strides=1, activation='elu', kernel_initializer='glorot_normal', padding='same'),\n",
    "    ],\n",
    "}\n",
    "\n",
    "ckpt_file = \"SEIDR_learn_rho\"\n",
    "\n",
    "global_step = tf.Variable(0, dtype=tf.int32)\n",
    "\n",
    "decay_steps = 1000\n",
    "decay_rate = .99\n",
    "starter_learning_rate = 0.0005\n",
    "learning_rate = tf.compat.v1.train.exponential_decay(starter_learning_rate, global_step, \n",
    "                                           decay_steps, decay_rate, staircase=True)\n",
    "optimizer = tf.compat.v1.train.AdamOptimizer(learning_rate=learning_rate)\n",
    "\n",
    "summary_net = SequenceNetwork(summary_meta)\n",
    "model = BayesFlow(inv_meta, n_inv_blocks, theta_dim, summary_net=summary_net, permute=True)\n",
    "checkpoint = tf.train.Checkpoint(step=global_step, optimizer=optimizer, net=model)\n",
    "manager = tf.train.CheckpointManager(checkpoint, './checkpoints/{}'.format(ckpt_file), max_to_keep=3)\n",
    "checkpoint.restore(manager.latest_checkpoint)\n",
    "if manager.latest_checkpoint:\n",
    "    print(\"Restored from {}\".format(manager.latest_checkpoint))\n",
    "else:\n",
    "    print(\"No model found! initializing from scratch\")"
   ]
  },
  {
   "cell_type": "code",
   "execution_count": 3,
   "metadata": {},
   "outputs": [
    {
     "name": "stdout",
     "output_type": "stream",
     "text": [
      "S [82000000. 81999999. 81999996. 81999996. 81999996. 81999995. 81999992.\n",
      " 81999990. 81999988. 81999988. 81999988. 81999988. 81999987. 81999987.\n",
      " 81999986. 81999986. 81999984. 81999984. 81999983. 81999983. 81999983.\n",
      " 81999983. 81999983. 81999972. 81999972. 81999972. 81999970. 81999970.\n",
      " 81999970. 81999970. 81999969. 81999958. 81999938. 81999936. 81999905.\n",
      " 81999854. 81999825. 81999788. 81999722. 81999502. 81999313. 81999183.\n",
      " 81998942. 81998804. 81998523. 81998064. 81997894. 81996272. 81995360.\n",
      " 81994148. 81992644. 81990652. 81987540. 81984523. 81979905. 81977470.\n",
      " 81974767. 81970555. 81963614. 81958924. 81950122. 81942129. 81933391.\n",
      " 81928161.]\n",
      "I [    0     1     4     4     4     5     8    10    12    12    12    12\n",
      "    13    13    14    14    16    16    16    16    16    16    16    16\n",
      "    16    16    16    16    16    16    17    27    46    48    79   130\n",
      "   159   196   262   482   670   799  1040  1176  1457  1908  2078  3675\n",
      "  4585  5795  7272  9257 12327 15320 19848 22213 24873 29056 32986 37323\n",
      " 43938 50871 57695 62095]\n",
      "D [  0   0   0   0   0   0   0   0   0   0   0   0   0   0   0   0   0   0\n",
      "   0   0   0   0   0   0   0   0   0   0   0   0   0   0   0   0   0   0\n",
      "   0   0   0   0   0   0   0   2   2   3   3   7   9  11  17  24  28  44\n",
      "  67  84  94 123 157 206 267 342 433 533]\n",
      "R [   0    0    0    0    0    0    0    0    0    0    0    0    0    0\n",
      "    0    0    0    0    1    1    1    1    1   12   12   12   14   14\n",
      "   14   14   14   15   16   16   16   16   16   16   16   16   17   18\n",
      "   18   18   18   25   25   46   46   46   67   67  105  113  180  233\n",
      "  266  266 3243 3547 5673 6658 8481 9211]\n",
      "S [1.         0.99999999 0.99999995 0.99999995 0.99999995 0.99999994\n",
      " 0.9999999  0.99999988 0.99999985 0.99999985 0.99999985 0.99999985\n",
      " 0.99999984 0.99999984 0.99999983 0.99999983 0.9999998  0.9999998\n",
      " 0.99999979 0.99999979 0.99999979 0.99999979 0.99999979 0.99999966\n",
      " 0.99999966 0.99999966 0.99999963 0.99999963 0.99999963 0.99999963\n",
      " 0.99999962 0.99999949 0.99999924 0.99999922 0.99999884 0.99999822\n",
      " 0.99999787 0.99999741 0.99999661 0.99999393 0.99999162 0.99999004\n",
      " 0.9999871  0.99998541 0.99998199 0.99997639 0.99997432 0.99995454\n",
      " 0.99994341 0.99992863 0.99991029 0.999886   0.99984805 0.99981126\n",
      " 0.99975494 0.99972524 0.99969228 0.99964091 0.99955627 0.99949907\n",
      " 0.99939173 0.99929426 0.9991877  0.99912391]\n",
      "I [0.         0.00000001 0.00000005 0.00000005 0.00000005 0.00000006\n",
      " 0.0000001  0.00000012 0.00000015 0.00000015 0.00000015 0.00000015\n",
      " 0.00000016 0.00000016 0.00000017 0.00000017 0.0000002  0.0000002\n",
      " 0.0000002  0.0000002  0.0000002  0.0000002  0.0000002  0.0000002\n",
      " 0.0000002  0.0000002  0.0000002  0.0000002  0.0000002  0.0000002\n",
      " 0.00000021 0.00000033 0.00000056 0.00000059 0.00000096 0.00000159\n",
      " 0.00000194 0.00000239 0.0000032  0.00000588 0.00000817 0.00000974\n",
      " 0.00001268 0.00001434 0.00001777 0.00002327 0.00002534 0.00004482\n",
      " 0.00005591 0.00007067 0.00008868 0.00011289 0.00015033 0.00018683\n",
      " 0.00024205 0.00027089 0.00030333 0.00035434 0.00040227 0.00045516\n",
      " 0.00053583 0.00062038 0.0007036  0.00075726]\n",
      "D [0.         0.         0.         0.         0.         0.\n",
      " 0.         0.         0.         0.         0.         0.\n",
      " 0.         0.         0.         0.         0.         0.\n",
      " 0.         0.         0.         0.         0.         0.\n",
      " 0.         0.         0.         0.         0.         0.\n",
      " 0.         0.         0.         0.         0.         0.\n",
      " 0.         0.         0.         0.         0.         0.\n",
      " 0.         0.00000002 0.00000002 0.00000004 0.00000004 0.00000009\n",
      " 0.00000011 0.00000013 0.00000021 0.00000029 0.00000034 0.00000054\n",
      " 0.00000082 0.00000102 0.00000115 0.0000015  0.00000191 0.00000251\n",
      " 0.00000326 0.00000417 0.00000528 0.0000065 ]\n",
      "R [0.         0.         0.         0.         0.         0.\n",
      " 0.         0.         0.         0.         0.         0.\n",
      " 0.         0.         0.         0.         0.         0.\n",
      " 0.00000001 0.00000001 0.00000001 0.00000001 0.00000001 0.00000015\n",
      " 0.00000015 0.00000015 0.00000017 0.00000017 0.00000017 0.00000017\n",
      " 0.00000017 0.00000018 0.0000002  0.0000002  0.0000002  0.0000002\n",
      " 0.0000002  0.0000002  0.0000002  0.0000002  0.00000021 0.00000022\n",
      " 0.00000022 0.00000022 0.00000022 0.0000003  0.0000003  0.00000056\n",
      " 0.00000056 0.00000056 0.00000082 0.00000082 0.00000128 0.00000138\n",
      " 0.0000022  0.00000284 0.00000324 0.00000324 0.00003955 0.00004326\n",
      " 0.00006918 0.0000812  0.00010343 0.00011233]\n"
     ]
    }
   ],
   "source": [
    "from data.data import load_country\n",
    "\n",
    "S,I,D,R = load_country(82*1e6, \"Germany\")\n",
    "\n",
    "data = np.stack([S,I,D,R]).T[None,:,:]\n",
    "\n",
    "print(\"S\", S)\n",
    "print(\"I\", I)\n",
    "print(\"D\", D)\n",
    "print(\"R\", R)"
   ]
  },
  {
   "cell_type": "code",
   "execution_count": 4,
   "metadata": {},
   "outputs": [
    {
     "name": "stdout",
     "output_type": "stream",
     "text": [
      "WARNING:tensorflow:Layer sequence_network is casting an input tensor from dtype float64 to the layer's dtype of float32, which is new behavior in TensorFlow 2.  The layer has dtype float32 because it's dtype defaults to floatx.\n",
      "\n",
      "If you intended to run this layer in float32, you can safely ignore this warning. If in doubt, this warning is likely only an issue if you are porting a TensorFlow 1.X model to TensorFlow 2.\n",
      "\n",
      "To change all layers to have dtype float64 by default, call `tf.keras.backend.set_floatx('float64')`. To change just this layer, pass dtype='float64' to the layer constructor. If you are the author of this layer, you can disable autocasting by passing autocast=False to the base Layer constructor.\n",
      "\n"
     ]
    }
   ],
   "source": [
    "theta_hat = model.sample(data, 5000, to_numpy=True)\n",
    "\n",
    "th_low = [0.01, 0.8, 0.05, 0.05, 0.01]\n",
    "th_high=[1.0, 3.25, 0.3, 0.3, 0.1]\n",
    "rh_low = [0,0,0,0,0,0]\n",
    "rh_high = [1,1,1,1,1,1]\n",
    "\n",
    "# restore original rho and rho_t parameters\n",
    "from deep_bayes import theta as thetaed\n",
    "theta_hat[:,0:6] = thetaed.decode(theta_hat[:,0:6], rh_low, rh_high)\n",
    "theta_hat[:,3:6] = np.cumsum((theta_hat[:,3:6]),axis=1)*S.shape[0]\n",
    "theta_hat[:,6:] = thetaed.decode(theta_hat[:,6:], th_low, th_high)\n",
    "\n",
    "theta_means = np.mean(theta_hat,axis=0)\n"
   ]
  },
  {
   "cell_type": "markdown",
   "metadata": {},
   "source": [
    "## Sow inferene results"
   ]
  },
  {
   "cell_type": "code",
   "execution_count": 5,
   "metadata": {},
   "outputs": [
    {
     "name": "stdout",
     "output_type": "stream",
     "text": [
      "Time series length 64\n",
      "rho1 0.6748277\n",
      "rho2 0.4528936\n",
      "rho3 0.323127\n",
      "rho-t1 15.505962\n",
      "rho-t2 32.32839\n",
      "rho-t3 48.96226\n",
      "p 0.5388412\n",
      "$\\beta$ 1.6669102\n",
      "$\\alpha$ 0.14466015\n",
      "$\\gamma$ 0.17595872\n",
      "$d$ 0.056545313\n"
     ]
    },
    {
     "data": {
      "image/png": "[encoded data removed]",
      "text/plain": [
       "<Figure size 864x216 with 11 Axes>"
      ]
     },
     "metadata": {
      "needs_background": "light"
     },
     "output_type": "display_data"
    }
   ],
   "source": [
    "print(\"Time series length\", S.shape[0])\n",
    "\n",
    "f, axarr = plt.subplots(1, theta_hat.shape[1], figsize=(12, 3))\n",
    "for i in range(theta_hat.shape[1]):\n",
    "    \n",
    "    sns.distplot(theta_hat[:, i], ax=axarr[i], kde=False)\n",
    "    axarr[i].axvline(theta_means[i], color='black')\n",
    "\n",
    "    axarr[i].set_title(param_names[i])\n",
    "f.tight_layout()\n",
    "\n",
    "for i in range(theta_hat.shape[1]):\n",
    "    print(param_names[i],theta_means[i])"
   ]
  },
  {
   "cell_type": "markdown",
   "metadata": {},
   "source": [
    "Currently, we have the following parameters:\n",
    "\n",
    "1. $\\alpha$ - inverse of incubation period (rate at which exposed move to infected)\n",
    "2. $\\beta$ - average contact rate in the population (I would model this in a more fine-grained manner\n",
    "3. $\\gamma$ - inverse of the mean infectous period (or rate at which infectious move to recovered)\n",
    "4. $d$ - death rate\n",
    "5. $\\rho$ - social distancing $\\in [0, 1]$"
   ]
  },
  {
   "cell_type": "code",
   "execution_count": null,
   "metadata": {},
   "outputs": [],
   "source": []
  }
 ],
 "metadata": {
  "kernelspec": {
   "display_name": "corona",
   "language": "python",
   "name": "corona"
  },
  "language_info": {
   "codemirror_mode": {
    "name": "ipython",
    "version": 3
   },
   "file_extension": ".py",
   "mimetype": "text/x-python",
   "name": "python",
   "nbconvert_exporter": "python",
   "pygments_lexer": "ipython3",
   "version": "3.7.7"
  }
 },
 "nbformat": 4,
 "nbformat_minor": 4
}
